{
 "cells": [
  {
   "cell_type": "code",
   "execution_count": 1,
   "metadata": {
    "collapsed": false
   },
   "outputs": [],
   "source": [
    "%matplotlib inline\n",
    "import glob\n",
    "\n",
    "import numpy as np\n",
    "import pandas as pd\n",
    "import sklearn as skl\n",
    "import matplotlib.pyplot as plt\n",
    "import seaborn as sns\n",
    "import xgboost as xgb\n",
    "\n",
    "import sklearn.cross_validation as xval\n",
    "from sklearn.metrics import roc_curve, auc\n",
    "\n",
    "sns.set(style='whitegrid', font_scale=1.2, rc={'figure.figsize': (10, 8)})"
   ]
  },
  {
   "cell_type": "code",
   "execution_count": 2,
   "metadata": {
    "collapsed": true
   },
   "outputs": [],
   "source": [
    "PROTEIN_ALPHABET = 'ACDEFGHIKLMNPQRSTVWY'\n",
    "PROTEIN_PLACEHOLDER = 'Z'\n",
    "PROTEIN_LETTERS = PROTEIN_ALPHABET + PROTEIN_PLACEHOLDER"
   ]
  },
  {
   "cell_type": "code",
   "execution_count": 3,
   "metadata": {
    "collapsed": false
   },
   "outputs": [],
   "source": [
    "df = pd.read_hdf('../data/combined.h5', 'table')"
   ]
  },
  {
   "cell_type": "code",
   "execution_count": 4,
   "metadata": {
    "collapsed": false
   },
   "outputs": [
    {
     "data": {
      "text/plain": [
       "185157"
      ]
     },
     "execution_count": 4,
     "metadata": {},
     "output_type": "execute_result"
    }
   ],
   "source": [
    "len(df)"
   ]
  },
  {
   "cell_type": "code",
   "execution_count": 20,
   "metadata": {
    "collapsed": false
   },
   "outputs": [
    {
     "data": {
      "text/html": [
       "<div>\n",
       "<table border=\"1\" class=\"dataframe\">\n",
       "  <thead>\n",
       "    <tr style=\"text-align: right;\">\n",
       "      <th></th>\n",
       "      <th>mhc</th>\n",
       "      <th>sequence</th>\n",
       "      <th>meas</th>\n",
       "      <th>p01A</th>\n",
       "      <th>p01C</th>\n",
       "      <th>p01D</th>\n",
       "      <th>p01E</th>\n",
       "      <th>p01F</th>\n",
       "      <th>p01G</th>\n",
       "      <th>p01H</th>\n",
       "      <th>...</th>\n",
       "      <th>fmhc_Patr-B*0901</th>\n",
       "      <th>fmhc_Patr-B*1301</th>\n",
       "      <th>fmhc_Patr-B*1701</th>\n",
       "      <th>fmhc_Patr-B*2401</th>\n",
       "      <th>fmhc_RT1-Bl</th>\n",
       "      <th>fmhc_SLA-1*0401</th>\n",
       "      <th>fmhc_SLA-1*0701</th>\n",
       "      <th>fmhc_SLA-2*0401</th>\n",
       "      <th>fmhc_SLA-3*0401</th>\n",
       "      <th>binds</th>\n",
       "    </tr>\n",
       "  </thead>\n",
       "  <tbody>\n",
       "    <tr>\n",
       "      <th>0</th>\n",
       "      <td>Patr-A*0101</td>\n",
       "      <td>RRDYRRGLZZZ</td>\n",
       "      <td>778.583409</td>\n",
       "      <td>0.0</td>\n",
       "      <td>0.0</td>\n",
       "      <td>0.0</td>\n",
       "      <td>0.0</td>\n",
       "      <td>0.0</td>\n",
       "      <td>0.0</td>\n",
       "      <td>0.0</td>\n",
       "      <td>...</td>\n",
       "      <td>0.0</td>\n",
       "      <td>0.0</td>\n",
       "      <td>0.0</td>\n",
       "      <td>0.0</td>\n",
       "      <td>0.0</td>\n",
       "      <td>0.0</td>\n",
       "      <td>0.0</td>\n",
       "      <td>0.0</td>\n",
       "      <td>0.0</td>\n",
       "      <td>False</td>\n",
       "    </tr>\n",
       "    <tr>\n",
       "      <th>1</th>\n",
       "      <td>Patr-A*0101</td>\n",
       "      <td>YHSNVKELZZZ</td>\n",
       "      <td>18806.166640</td>\n",
       "      <td>0.0</td>\n",
       "      <td>0.0</td>\n",
       "      <td>0.0</td>\n",
       "      <td>0.0</td>\n",
       "      <td>0.0</td>\n",
       "      <td>0.0</td>\n",
       "      <td>0.0</td>\n",
       "      <td>...</td>\n",
       "      <td>0.0</td>\n",
       "      <td>0.0</td>\n",
       "      <td>0.0</td>\n",
       "      <td>0.0</td>\n",
       "      <td>0.0</td>\n",
       "      <td>0.0</td>\n",
       "      <td>0.0</td>\n",
       "      <td>0.0</td>\n",
       "      <td>0.0</td>\n",
       "      <td>False</td>\n",
       "    </tr>\n",
       "    <tr>\n",
       "      <th>2</th>\n",
       "      <td>Patr-A*0101</td>\n",
       "      <td>AQFSPQYLZZZ</td>\n",
       "      <td>22203.186860</td>\n",
       "      <td>1.0</td>\n",
       "      <td>0.0</td>\n",
       "      <td>0.0</td>\n",
       "      <td>0.0</td>\n",
       "      <td>0.0</td>\n",
       "      <td>0.0</td>\n",
       "      <td>0.0</td>\n",
       "      <td>...</td>\n",
       "      <td>0.0</td>\n",
       "      <td>0.0</td>\n",
       "      <td>0.0</td>\n",
       "      <td>0.0</td>\n",
       "      <td>0.0</td>\n",
       "      <td>0.0</td>\n",
       "      <td>0.0</td>\n",
       "      <td>0.0</td>\n",
       "      <td>0.0</td>\n",
       "      <td>False</td>\n",
       "    </tr>\n",
       "    <tr>\n",
       "      <th>3</th>\n",
       "      <td>Patr-A*0101</td>\n",
       "      <td>GDYKLVEIZZZ</td>\n",
       "      <td>87128.712870</td>\n",
       "      <td>0.0</td>\n",
       "      <td>0.0</td>\n",
       "      <td>0.0</td>\n",
       "      <td>0.0</td>\n",
       "      <td>0.0</td>\n",
       "      <td>1.0</td>\n",
       "      <td>0.0</td>\n",
       "      <td>...</td>\n",
       "      <td>0.0</td>\n",
       "      <td>0.0</td>\n",
       "      <td>0.0</td>\n",
       "      <td>0.0</td>\n",
       "      <td>0.0</td>\n",
       "      <td>0.0</td>\n",
       "      <td>0.0</td>\n",
       "      <td>0.0</td>\n",
       "      <td>0.0</td>\n",
       "      <td>False</td>\n",
       "    </tr>\n",
       "    <tr>\n",
       "      <th>4</th>\n",
       "      <td>Patr-A*0101</td>\n",
       "      <td>RGYVFQGLZZZ</td>\n",
       "      <td>87128.712870</td>\n",
       "      <td>0.0</td>\n",
       "      <td>0.0</td>\n",
       "      <td>0.0</td>\n",
       "      <td>0.0</td>\n",
       "      <td>0.0</td>\n",
       "      <td>0.0</td>\n",
       "      <td>0.0</td>\n",
       "      <td>...</td>\n",
       "      <td>0.0</td>\n",
       "      <td>0.0</td>\n",
       "      <td>0.0</td>\n",
       "      <td>0.0</td>\n",
       "      <td>0.0</td>\n",
       "      <td>0.0</td>\n",
       "      <td>0.0</td>\n",
       "      <td>0.0</td>\n",
       "      <td>0.0</td>\n",
       "      <td>False</td>\n",
       "    </tr>\n",
       "  </tbody>\n",
       "</table>\n",
       "<p>5 rows × 973 columns</p>\n",
       "</div>"
      ],
      "text/plain": [
       "           mhc     sequence          meas  p01A  p01C  p01D  p01E  p01F  p01G  \\\n",
       "0  Patr-A*0101  RRDYRRGLZZZ    778.583409   0.0   0.0   0.0   0.0   0.0   0.0   \n",
       "1  Patr-A*0101  YHSNVKELZZZ  18806.166640   0.0   0.0   0.0   0.0   0.0   0.0   \n",
       "2  Patr-A*0101  AQFSPQYLZZZ  22203.186860   1.0   0.0   0.0   0.0   0.0   0.0   \n",
       "3  Patr-A*0101  GDYKLVEIZZZ  87128.712870   0.0   0.0   0.0   0.0   0.0   1.0   \n",
       "4  Patr-A*0101  RGYVFQGLZZZ  87128.712870   0.0   0.0   0.0   0.0   0.0   0.0   \n",
       "\n",
       "   p01H  ...    fmhc_Patr-B*0901  fmhc_Patr-B*1301  fmhc_Patr-B*1701  \\\n",
       "0   0.0  ...                 0.0               0.0               0.0   \n",
       "1   0.0  ...                 0.0               0.0               0.0   \n",
       "2   0.0  ...                 0.0               0.0               0.0   \n",
       "3   0.0  ...                 0.0               0.0               0.0   \n",
       "4   0.0  ...                 0.0               0.0               0.0   \n",
       "\n",
       "   fmhc_Patr-B*2401  fmhc_RT1-Bl  fmhc_SLA-1*0401  fmhc_SLA-1*0701  \\\n",
       "0               0.0          0.0              0.0              0.0   \n",
       "1               0.0          0.0              0.0              0.0   \n",
       "2               0.0          0.0              0.0              0.0   \n",
       "3               0.0          0.0              0.0              0.0   \n",
       "4               0.0          0.0              0.0              0.0   \n",
       "\n",
       "   fmhc_SLA-2*0401  fmhc_SLA-3*0401  binds  \n",
       "0              0.0              0.0  False  \n",
       "1              0.0              0.0  False  \n",
       "2              0.0              0.0  False  \n",
       "3              0.0              0.0  False  \n",
       "4              0.0              0.0  False  \n",
       "\n",
       "[5 rows x 973 columns]"
      ]
     },
     "execution_count": 20,
     "metadata": {},
     "output_type": "execute_result"
    }
   ],
   "source": [
    "df.head()"
   ]
  },
  {
   "cell_type": "code",
   "execution_count": 6,
   "metadata": {
    "collapsed": true
   },
   "outputs": [],
   "source": [
    "meas_threshold = 500"
   ]
  },
  {
   "cell_type": "code",
   "execution_count": 7,
   "metadata": {
    "collapsed": false
   },
   "outputs": [
    {
     "name": "stdout",
     "output_type": "stream",
     "text": [
      "50440\n",
      "134717\n"
     ]
    }
   ],
   "source": [
    "print(df.meas[df.meas < meas_threshold].count())\n",
    "print(df.meas[df.meas >= meas_threshold].count())"
   ]
  },
  {
   "cell_type": "code",
   "execution_count": 8,
   "metadata": {
    "collapsed": true
   },
   "outputs": [],
   "source": [
    "df['binds'] = df.meas.apply(lambda x: x < 500)"
   ]
  },
  {
   "cell_type": "code",
   "execution_count": 9,
   "metadata": {
    "collapsed": false
   },
   "outputs": [],
   "source": [
    "train_features = [col for col in df.columns if col[0] == 'f']"
   ]
  },
  {
   "cell_type": "code",
   "execution_count": 10,
   "metadata": {
    "collapsed": true
   },
   "outputs": [],
   "source": [
    "X = df[train_features].values\n",
    "y = df.meas.values"
   ]
  },
  {
   "cell_type": "code",
   "execution_count": 12,
   "metadata": {
    "collapsed": false
   },
   "outputs": [],
   "source": [
    "X_train, X_test, y_train, y_test = xval.train_test_split(X, y, test_size=0.2)\n",
    "dm_train = xgb.DMatrix(X_train, y_train)\n",
    "dm_test = xgb.DMatrix(X_test, y_test)"
   ]
  },
  {
   "cell_type": "code",
   "execution_count": null,
   "metadata": {
    "collapsed": true
   },
   "outputs": [],
   "source": [
    "xgb.XGBRegressor(max_depth=100, )"
   ]
  },
  {
   "cell_type": "code",
   "execution_count": 17,
   "metadata": {
    "collapsed": false
   },
   "outputs": [
    {
     "name": "stderr",
     "output_type": "stream",
     "text": [
      "/Users/emil/local/anaconda/lib/python3.5/site-packages/xgboost/training.py:272: VisibleDeprecationWarning: using a non-integer number instead of an integer will result in an error in the future\n",
      "  idset = [randidx[(i * kstep): min(len(randidx), (i + 1) * kstep)] for i in range(nfold)]\n"
     ]
    },
    {
     "data": {
      "text/html": [
       "<div>\n",
       "<table border=\"1\" class=\"dataframe\">\n",
       "  <thead>\n",
       "    <tr style=\"text-align: right;\">\n",
       "      <th></th>\n",
       "      <th>test-auc-mean</th>\n",
       "      <th>test-auc-std</th>\n",
       "      <th>train-auc-mean</th>\n",
       "      <th>train-auc-std</th>\n",
       "    </tr>\n",
       "  </thead>\n",
       "  <tbody>\n",
       "    <tr>\n",
       "      <th>0</th>\n",
       "      <td>0.850492</td>\n",
       "      <td>0.004032</td>\n",
       "      <td>0.909415</td>\n",
       "      <td>0.001772</td>\n",
       "    </tr>\n",
       "    <tr>\n",
       "      <th>1</th>\n",
       "      <td>0.869451</td>\n",
       "      <td>0.004633</td>\n",
       "      <td>0.949543</td>\n",
       "      <td>0.001166</td>\n",
       "    </tr>\n",
       "    <tr>\n",
       "      <th>2</th>\n",
       "      <td>0.882717</td>\n",
       "      <td>0.003843</td>\n",
       "      <td>0.966816</td>\n",
       "      <td>0.000671</td>\n",
       "    </tr>\n",
       "    <tr>\n",
       "      <th>3</th>\n",
       "      <td>0.889568</td>\n",
       "      <td>0.003572</td>\n",
       "      <td>0.976808</td>\n",
       "      <td>0.000544</td>\n",
       "    </tr>\n",
       "    <tr>\n",
       "      <th>4</th>\n",
       "      <td>0.894024</td>\n",
       "      <td>0.002812</td>\n",
       "      <td>0.982933</td>\n",
       "      <td>0.000349</td>\n",
       "    </tr>\n",
       "    <tr>\n",
       "      <th>5</th>\n",
       "      <td>0.896461</td>\n",
       "      <td>0.002665</td>\n",
       "      <td>0.987111</td>\n",
       "      <td>0.000339</td>\n",
       "    </tr>\n",
       "    <tr>\n",
       "      <th>6</th>\n",
       "      <td>0.898607</td>\n",
       "      <td>0.002067</td>\n",
       "      <td>0.990017</td>\n",
       "      <td>0.000231</td>\n",
       "    </tr>\n",
       "    <tr>\n",
       "      <th>7</th>\n",
       "      <td>0.900409</td>\n",
       "      <td>0.002481</td>\n",
       "      <td>0.992122</td>\n",
       "      <td>0.000212</td>\n",
       "    </tr>\n",
       "    <tr>\n",
       "      <th>8</th>\n",
       "      <td>0.901954</td>\n",
       "      <td>0.002703</td>\n",
       "      <td>0.993705</td>\n",
       "      <td>0.000156</td>\n",
       "    </tr>\n",
       "    <tr>\n",
       "      <th>9</th>\n",
       "      <td>0.902833</td>\n",
       "      <td>0.002830</td>\n",
       "      <td>0.994859</td>\n",
       "      <td>0.000152</td>\n",
       "    </tr>\n",
       "  </tbody>\n",
       "</table>\n",
       "</div>"
      ],
      "text/plain": [
       "   test-auc-mean  test-auc-std  train-auc-mean  train-auc-std\n",
       "0       0.850492      0.004032        0.909415       0.001772\n",
       "1       0.869451      0.004633        0.949543       0.001166\n",
       "2       0.882717      0.003843        0.966816       0.000671\n",
       "3       0.889568      0.003572        0.976808       0.000544\n",
       "4       0.894024      0.002812        0.982933       0.000349\n",
       "5       0.896461      0.002665        0.987111       0.000339\n",
       "6       0.898607      0.002067        0.990017       0.000231\n",
       "7       0.900409      0.002481        0.992122       0.000212\n",
       "8       0.901954      0.002703        0.993705       0.000156\n",
       "9       0.902833      0.002830        0.994859       0.000152"
      ]
     },
     "execution_count": 17,
     "metadata": {},
     "output_type": "execute_result"
    }
   ],
   "source": [
    "params = {'objective': 'reg:linear', 'max_depth': 100, 'eta': 1, 'gamma': 1, 'lambda': 3}\n",
    "xgb.cv(params, dm_train, metrics={'rmse'}, nfold=10)\n",
    "# bst = xgb.train(params, dm_train)"
   ]
  },
  {
   "cell_type": "code",
   "execution_count": 14,
   "metadata": {
    "collapsed": false
   },
   "outputs": [],
   "source": [
    "pred = bst.predict(dm_test)"
   ]
  },
  {
   "cell_type": "code",
   "execution_count": 15,
   "metadata": {
    "collapsed": false
   },
   "outputs": [
    {
     "data": {
      "image/png": "[encoded data removed]",
      "text/plain": [
       "<matplotlib.figure.Figure at 0x16cf04780>"
      ]
     },
     "metadata": {},
     "output_type": "display_data"
    }
   ],
   "source": [
    "fpr, tpr, thresholds = roc_curve(y_test, pred)\n",
    "roc_auc = auc(fpr, tpr)\n",
    "\n",
    "plt.figure()\n",
    "plt.plot(fpr, tpr, label='ROC curve (area = %0.2f)' % roc_auc)\n",
    "plt.plot([0, 1], [0, 1], 'k--')\n",
    "plt.xlim([0.0, 1.0])\n",
    "plt.ylim([0.0, 1.05])\n",
    "plt.xlabel('False Positive Rate')\n",
    "plt.ylabel('True Positive Rate')\n",
    "plt.title('Receiver operating characteristic example')\n",
    "plt.legend(loc=\"lower right\")\n",
    "plt.show()"
   ]
  },
  {
   "cell_type": "code",
   "execution_count": 18,
   "metadata": {
    "collapsed": true
   },
   "outputs": [],
   "source": [
    "bst.save_model('mhcmodel')"
   ]
  }
 ],
 "metadata": {
  "kernelspec": {
   "display_name": "Python 3",
   "language": "python",
   "name": "python3"
  },
  "language_info": {
   "codemirror_mode": {
    "name": "ipython",
    "version": 3
   },
   "file_extension": ".py",
   "mimetype": "text/x-python",
   "name": "python",
   "nbconvert_exporter": "python",
   "pygments_lexer": "ipython3",
   "version": "3.5.2"
  }
 },
 "nbformat": 4,
 "nbformat_minor": 0
}
